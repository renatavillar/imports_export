{
 "cells": [
  {
   "cell_type": "code",
   "execution_count": 71,
   "metadata": {},
   "outputs": [],
   "source": [
    "import pandas as pd\n",
    "import copy\n",
    "import matplotlib.pyplot as plt\n",
    "import matplotlib.gridspec as gridspec\n",
    "import matplotlib.pylab as pl\n",
    "import seaborn as sns\n",
    "from sklearn.linear_model import LinearRegression"
   ]
  },
  {
   "cell_type": "code",
   "execution_count": 2,
   "metadata": {},
   "outputs": [
    {
     "data": {
      "text/html": [
       "<div>\n",
       "<style scoped>\n",
       "    .dataframe tbody tr th:only-of-type {\n",
       "        vertical-align: middle;\n",
       "    }\n",
       "\n",
       "    .dataframe tbody tr th {\n",
       "        vertical-align: top;\n",
       "    }\n",
       "\n",
       "    .dataframe thead th {\n",
       "        text-align: right;\n",
       "    }\n",
       "</style>\n",
       "<table border=\"1\" class=\"dataframe\">\n",
       "  <thead>\n",
       "    <tr style=\"text-align: right;\">\n",
       "      <th></th>\n",
       "      <th>date</th>\n",
       "      <th>product</th>\n",
       "      <th>state</th>\n",
       "      <th>country</th>\n",
       "      <th>type</th>\n",
       "      <th>route</th>\n",
       "      <th>tons</th>\n",
       "      <th>usd</th>\n",
       "    </tr>\n",
       "  </thead>\n",
       "  <tbody>\n",
       "    <tr>\n",
       "      <th>0</th>\n",
       "      <td>1997-01-01</td>\n",
       "      <td>corn</td>\n",
       "      <td>ES</td>\n",
       "      <td>United States</td>\n",
       "      <td>Import</td>\n",
       "      <td>Sea</td>\n",
       "      <td>44.045</td>\n",
       "      <td>113029.0</td>\n",
       "    </tr>\n",
       "    <tr>\n",
       "      <th>1</th>\n",
       "      <td>1997-01-01</td>\n",
       "      <td>corn</td>\n",
       "      <td>GO</td>\n",
       "      <td>Argentina</td>\n",
       "      <td>Import</td>\n",
       "      <td>Ground</td>\n",
       "      <td>54.000</td>\n",
       "      <td>36720.0</td>\n",
       "    </tr>\n",
       "    <tr>\n",
       "      <th>2</th>\n",
       "      <td>1997-01-01</td>\n",
       "      <td>corn</td>\n",
       "      <td>GO</td>\n",
       "      <td>Bolivia</td>\n",
       "      <td>Export</td>\n",
       "      <td>Ground</td>\n",
       "      <td>0.200</td>\n",
       "      <td>180.0</td>\n",
       "    </tr>\n",
       "    <tr>\n",
       "      <th>3</th>\n",
       "      <td>1997-01-01</td>\n",
       "      <td>corn</td>\n",
       "      <td>GO</td>\n",
       "      <td>United States</td>\n",
       "      <td>Export</td>\n",
       "      <td>Sea</td>\n",
       "      <td>3.488</td>\n",
       "      <td>5688.0</td>\n",
       "    </tr>\n",
       "    <tr>\n",
       "      <th>4</th>\n",
       "      <td>1997-01-01</td>\n",
       "      <td>corn</td>\n",
       "      <td>MG</td>\n",
       "      <td>Argentina</td>\n",
       "      <td>Import</td>\n",
       "      <td>Ground</td>\n",
       "      <td>27.000</td>\n",
       "      <td>18630.0</td>\n",
       "    </tr>\n",
       "  </tbody>\n",
       "</table>\n",
       "</div>"
      ],
      "text/plain": [
       "         date product state        country    type   route    tons       usd\n",
       "0  1997-01-01    corn    ES  United States  Import     Sea  44.045  113029.0\n",
       "1  1997-01-01    corn    GO      Argentina  Import  Ground  54.000   36720.0\n",
       "2  1997-01-01    corn    GO        Bolivia  Export  Ground   0.200     180.0\n",
       "3  1997-01-01    corn    GO  United States  Export     Sea   3.488    5688.0\n",
       "4  1997-01-01    corn    MG      Argentina  Import  Ground  27.000   18630.0"
      ]
     },
     "execution_count": 2,
     "metadata": {},
     "output_type": "execute_result"
    }
   ],
   "source": [
    "data = pd.read_csv('data_comexstat.csv', sep=',', encoding='cp860')\n",
    "data.head()"
   ]
  },
  {
   "cell_type": "code",
   "execution_count": 3,
   "metadata": {},
   "outputs": [
    {
     "data": {
      "text/plain": [
       "0         1997-01-01\n",
       "1         1997-01-01\n",
       "2         1997-01-01\n",
       "3         1997-01-01\n",
       "4         1997-01-01\n",
       "             ...    \n",
       "117960    2019-12-01\n",
       "117961    2019-12-01\n",
       "117962    2019-12-01\n",
       "117963    2019-12-01\n",
       "117964    2019-12-01\n",
       "Name: date, Length: 117965, dtype: object"
      ]
     },
     "execution_count": 3,
     "metadata": {},
     "output_type": "execute_result"
    }
   ],
   "source": [
    "data['date']"
   ]
  },
  {
   "cell_type": "code",
   "execution_count": 4,
   "metadata": {},
   "outputs": [
    {
     "data": {
      "text/plain": [
       "date        object\n",
       "product     object\n",
       "state       object\n",
       "country     object\n",
       "type        object\n",
       "route       object\n",
       "tons       float64\n",
       "usd        float64\n",
       "dtype: object"
      ]
     },
     "execution_count": 4,
     "metadata": {},
     "output_type": "execute_result"
    }
   ],
   "source": [
    "data.dtypes"
   ]
  },
  {
   "cell_type": "code",
   "execution_count": 5,
   "metadata": {},
   "outputs": [
    {
     "data": {
      "text/plain": [
       "date       0\n",
       "product    0\n",
       "state      0\n",
       "country    0\n",
       "type       0\n",
       "route      0\n",
       "tons       0\n",
       "usd        0\n",
       "dtype: int64"
      ]
     },
     "execution_count": 5,
     "metadata": {},
     "output_type": "execute_result"
    }
   ],
   "source": [
    "data.isna().sum()"
   ]
  },
  {
   "cell_type": "code",
   "execution_count": 6,
   "metadata": {},
   "outputs": [],
   "source": [
    "data2 = copy.deepcopy(data)"
   ]
  },
  {
   "cell_type": "code",
   "execution_count": 7,
   "metadata": {},
   "outputs": [
    {
     "data": {
      "text/plain": [
       "date        object\n",
       "product     object\n",
       "state       object\n",
       "country     object\n",
       "type        object\n",
       "route       object\n",
       "tons       float64\n",
       "usd        float64\n",
       "dtype: object"
      ]
     },
     "execution_count": 7,
     "metadata": {},
     "output_type": "execute_result"
    }
   ],
   "source": [
    "data2.dtypes"
   ]
  },
  {
   "cell_type": "code",
   "execution_count": 8,
   "metadata": {},
   "outputs": [
    {
     "name": "stdout",
     "output_type": "stream",
     "text": [
      "['corn' 'soybean_meal' 'soybean_oil' 'soybeans' 'sugar' 'wheat']\n",
      "['Import' 'Export']\n",
      "['Afghanistan', 'Albania', 'Algeria', 'Americana Samoa', 'Angola', 'Anguilla', 'Antigua and Barbuda', 'Argentina', 'Armenia', 'Aruba', 'Australia', 'Austria', 'Bahamas', 'Bahrein', 'Bangladesh', 'Barbados', 'Belarus', 'Belgium', 'Belize', 'Benin', 'Bermuda', 'Bolivia', 'Bosnia and Herzegovina', 'Botswana', 'Brazil', 'Brunei', 'Bulgaria', 'Burkina Faso', 'Cambodia', 'Cameroon', 'Canada', 'Canary, Islands', 'Cape Verde', 'Cayman Islands', 'Central African Republic', 'Chad', 'Chile', 'China', 'Christmas Island', 'Colombia', 'Comoros', 'Congo', 'Costa Rica', \"Cote D'Ivore\", 'Croatia', 'Cuba', 'Curaτao', 'Cyprus', 'Czech Republic', 'Democratic Republic of the Congo', 'Denmark', 'Djibouti', 'Dominica Island', 'Dominican Republic', 'Ecuador', 'Egypt', 'El Salvador', 'Equatorial Guinea', 'Eritrea', 'Estonia', 'Ethiopia', 'Falkland Islands (Malvinas)', 'Fiji', 'Finland', 'France', 'French Guyana', 'French Polynesia', 'French Southern Lands', 'Gabon', 'Gambia', 'Georgia', 'Germany', 'Ghana', 'Gibraltar', 'Greece', 'Grenada', 'Guadeloupe', 'Guam', 'Guatemala', 'Guinea', 'Guinea-Bissau', 'Guyana', 'Haiti', 'Honduras', 'Hong Kong', 'Hungary', 'Iceland', 'India', 'Indonesia', 'Iran', 'Iraq', 'Ireland', 'Isle of Man', 'Israel', 'Italy', 'Jamaica', 'Japan', 'Johnston (Island)', 'Jordan', 'Kazakhstan', 'Kenya', 'Kiribati', 'Kuwait', 'Latvia', 'Lebanon', 'Liberia', 'Libya', 'Liechtenstein', 'Lithuania', 'Luxembourg', 'Macedonia', 'Madagascar', 'Madeira', 'Malaysia', 'Maldives', 'Mali', 'Malta', 'Marshall Islands', 'Martinique', 'Mauritania', 'Mauritius', 'Mayotte', 'Mexico', 'Moldova', 'Monaco', 'Montenegro', 'Montserrat', 'Morocco', 'Mozambique', 'Myanmar', 'Namibia', 'Nepal', 'Netherlands', 'Netherlands Antilles', 'New Caledonia', 'New Zealand', 'Nicaragua', 'Niger', 'Nigeria', 'North Korea', 'Norway', 'Oman', 'Pacific Islands (USA)', 'Pakistan', 'Panama', 'Papua New Guinea', 'Paraguay', 'Peru', 'Philippines', 'Planes and ships provisions', 'Poland', 'Portugal', 'Puerto Rico', 'Qatar', 'Reunion', 'Romania', 'Russia', 'Saint Christopher and Nevis', 'Saint Helena', 'Saint Lucia', 'Saint Vicent and the Granadines', 'Samoa', 'Saudi Arabia', 'Senegal', 'Seychelles', 'Sierra Leone', 'Singapore', 'Sint Maarten', 'Slovakia', 'Slovenia', 'Solomon Islands', 'Somalia', 'South Africa', 'South Korea', 'Spain', 'Sri Lanka', 'Sudan', 'Suriname', 'Swaziland', 'Sweden', 'Switzerland', 'Syria', 'Sπo Tome and Principe', 'Taiwan', 'Tajikistan', 'Tanzania', 'Thailand', 'To define', 'Togo', 'Tonga', 'Trinidad and Tobago', 'Tunisia', 'Turkey', 'Turks and Caicos, Islands', 'Tuvalu', 'Uganda', 'Ukraine', 'United Arab Emirates', 'United Kingdom', 'United States', 'Uruguay', 'Uzbekistan', 'Vanuatu', 'Venezuela', 'Vietnam', 'Virgin Islands (UK)', 'Virgin Islands (USA)', 'Wake Island', 'Yemen', 'Yugoslavia', 'Zambia', 'Zimbabwe']\n"
     ]
    }
   ],
   "source": [
    "print(data['product'].unique())\n",
    "print(data['type'].unique())\n",
    "print(sorted(data['country'].unique()))"
   ]
  },
  {
   "cell_type": "code",
   "execution_count": null,
   "metadata": {},
   "outputs": [],
   "source": []
  },
  {
   "cell_type": "markdown",
   "metadata": {},
   "source": [
    "# Question 1\n",
    "Show the evolution of total monthly and total annual exports from Brazil (all states and to everywhere) of ‘soybeans’, ‘soybean oil’ and ‘soybean meal’."
   ]
  },
  {
   "cell_type": "code",
   "execution_count": 9,
   "metadata": {},
   "outputs": [
    {
     "data": {
      "text/html": [
       "<div>\n",
       "<style scoped>\n",
       "    .dataframe tbody tr th:only-of-type {\n",
       "        vertical-align: middle;\n",
       "    }\n",
       "\n",
       "    .dataframe tbody tr th {\n",
       "        vertical-align: top;\n",
       "    }\n",
       "\n",
       "    .dataframe thead th {\n",
       "        text-align: right;\n",
       "    }\n",
       "</style>\n",
       "<table border=\"1\" class=\"dataframe\">\n",
       "  <thead>\n",
       "    <tr style=\"text-align: right;\">\n",
       "      <th></th>\n",
       "      <th>date</th>\n",
       "      <th>product</th>\n",
       "      <th>state</th>\n",
       "      <th>country</th>\n",
       "      <th>type</th>\n",
       "      <th>route</th>\n",
       "      <th>tons</th>\n",
       "      <th>usd</th>\n",
       "    </tr>\n",
       "  </thead>\n",
       "  <tbody>\n",
       "    <tr>\n",
       "      <th>114268</th>\n",
       "      <td>2019-09-01</td>\n",
       "      <td>soybean_oil</td>\n",
       "      <td>AL</td>\n",
       "      <td>Brazil</td>\n",
       "      <td>Export</td>\n",
       "      <td>Other</td>\n",
       "      <td>0.0</td>\n",
       "      <td>12.0</td>\n",
       "    </tr>\n",
       "  </tbody>\n",
       "</table>\n",
       "</div>"
      ],
      "text/plain": [
       "              date      product state country    type  route  tons   usd\n",
       "114268  2019-09-01  soybean_oil    AL  Brazil  Export  Other   0.0  12.0"
      ]
     },
     "execution_count": 9,
     "metadata": {},
     "output_type": "execute_result"
    }
   ],
   "source": [
    "data2 = copy.deepcopy(data)\n",
    "data2['country'] = data2['country'].astype(str)\n",
    "data2['product'] = data2['product'].astype(str)\n",
    "data2['type'] = data2['type'].astype(str)\n",
    "data2 = data2[(data2['country'] == 'Brazil') & (data2['type'] == 'Export') &\n",
    "             ((data2['product'] == 'soybeans') | (data2['product'] == 'soybean_oil') |\n",
    "             (data2['product'] == 'soybean_meal'))]\n",
    "data2.head()"
   ]
  },
  {
   "cell_type": "markdown",
   "metadata": {},
   "source": [
    "# Question 2\n",
    "What are the 3 most important products exported by Brazil in the last 5 years?"
   ]
  },
  {
   "cell_type": "code",
   "execution_count": 10,
   "metadata": {},
   "outputs": [
    {
     "name": "stderr",
     "output_type": "stream",
     "text": [
      "/home/renata/anaconda3/lib/python3.6/site-packages/pandas/core/ops/array_ops.py:253: FutureWarning: elementwise comparison failed; returning scalar instead, but in the future will perform elementwise comparison\n",
      "  res_values = method(rvalues)\n"
     ]
    },
    {
     "data": {
      "text/html": [
       "<div>\n",
       "<style scoped>\n",
       "    .dataframe tbody tr th:only-of-type {\n",
       "        vertical-align: middle;\n",
       "    }\n",
       "\n",
       "    .dataframe tbody tr th {\n",
       "        vertical-align: top;\n",
       "    }\n",
       "\n",
       "    .dataframe thead th {\n",
       "        text-align: right;\n",
       "    }\n",
       "</style>\n",
       "<table border=\"1\" class=\"dataframe\">\n",
       "  <thead>\n",
       "    <tr style=\"text-align: right;\">\n",
       "      <th></th>\n",
       "      <th>date</th>\n",
       "      <th>product</th>\n",
       "      <th>state</th>\n",
       "      <th>country</th>\n",
       "      <th>type</th>\n",
       "      <th>route</th>\n",
       "      <th>tons</th>\n",
       "      <th>usd</th>\n",
       "    </tr>\n",
       "  </thead>\n",
       "  <tbody>\n",
       "  </tbody>\n",
       "</table>\n",
       "</div>"
      ],
      "text/plain": [
       "Empty DataFrame\n",
       "Columns: [date, product, state, country, type, route, tons, usd]\n",
       "Index: []"
      ]
     },
     "execution_count": 10,
     "metadata": {},
     "output_type": "execute_result"
    }
   ],
   "source": [
    "data2 = pd.read_csv('data_comexstat.csv', sep=',', encoding='cp860')\n",
    "data2['date'] = pd.to_datetime(data2['date'], format = '%Y-%m-%d')\n",
    "data2 = data2[(data2['date'] >= '2014-12-01') & (data2['country'] == 'Brazil') & \n",
    "             data2['type'] == 'Export']\n",
    "data2"
   ]
  },
  {
   "cell_type": "markdown",
   "metadata": {},
   "source": [
    "# Question 3\n",
    "What are the main routes through which Brazil have been exporting ‘corn’ in the last few years? Are there differences in the relative importancem of routes depending on the product?"
   ]
  },
  {
   "cell_type": "code",
   "execution_count": 11,
   "metadata": {},
   "outputs": [
    {
     "data": {
      "text/html": [
       "<div>\n",
       "<style scoped>\n",
       "    .dataframe tbody tr th:only-of-type {\n",
       "        vertical-align: middle;\n",
       "    }\n",
       "\n",
       "    .dataframe tbody tr th {\n",
       "        vertical-align: top;\n",
       "    }\n",
       "\n",
       "    .dataframe thead th {\n",
       "        text-align: right;\n",
       "    }\n",
       "</style>\n",
       "<table border=\"1\" class=\"dataframe\">\n",
       "  <thead>\n",
       "    <tr style=\"text-align: right;\">\n",
       "      <th></th>\n",
       "      <th>date</th>\n",
       "      <th>product</th>\n",
       "      <th>state</th>\n",
       "      <th>country</th>\n",
       "      <th>type</th>\n",
       "      <th>route</th>\n",
       "      <th>tons</th>\n",
       "      <th>usd</th>\n",
       "    </tr>\n",
       "  </thead>\n",
       "  <tbody>\n",
       "  </tbody>\n",
       "</table>\n",
       "</div>"
      ],
      "text/plain": [
       "Empty DataFrame\n",
       "Columns: [date, product, state, country, type, route, tons, usd]\n",
       "Index: []"
      ]
     },
     "execution_count": 11,
     "metadata": {},
     "output_type": "execute_result"
    }
   ],
   "source": [
    "data2 = copy.deepcopy(data)\n",
    "data2['date'] = pd.to_datetime(data2['date'], format = '%Y-%m-%d')\n",
    "data2 = data2[(data2['date'] >= '2009-12-01') & (data2['country'] == 'Brazil') & \n",
    "             (data2['type'] == 'Export') & (data2['product'] == 'corn')]\n",
    "data2"
   ]
  },
  {
   "cell_type": "markdown",
   "metadata": {},
   "source": [
    "# Question 4\n",
    "Which countries have been the most important trade partners for Brazil in terms of ‘corn’ and ‘sugar’ in the last 3 years?"
   ]
  },
  {
   "cell_type": "code",
   "execution_count": 12,
   "metadata": {},
   "outputs": [
    {
     "name": "stdout",
     "output_type": "stream",
     "text": [
      "             date product state country    type  route  tons     usd\n",
      "94010  2017-07-01    corn    GO  Brazil  Import    Air  0.08  1956.0\n",
      "114592 2019-09-01   sugar    AL  Brazil  Export  Other  0.00    15.0\n",
      "----------------------------------------\n",
      "                            tons          usd\n",
      "product country                              \n",
      "corn    Afghanistan    13076.830    2378200.0\n",
      "        Algeria      1618685.430  265081316.0\n",
      "        Angola         35194.939    7035458.0\n",
      "        Argentina    1009370.202  209734738.0\n",
      "        Armenia          415.260     181007.0\n",
      "...                          ...          ...\n",
      "sugar   Uruguay       243681.117   78366725.0\n",
      "        Uzbekistan    147015.651   39069039.0\n",
      "        Venezuela     750624.611  288857274.0\n",
      "        Vietnam         9987.000    4175443.0\n",
      "        Yemen        1783729.636  606818095.0\n",
      "\n",
      "[270 rows x 2 columns]\n",
      "product  country             \n",
      "corn     Iran                    1.681816e+07\n",
      "         Japan                   9.747921e+06\n",
      "         Vietnam                 9.627732e+06\n",
      "         Egypt                   8.402830e+06\n",
      "         Spain                   8.243946e+06\n",
      "         South Korea             6.273068e+06\n",
      "         Taiwan                  5.124211e+06\n",
      "         Malaysia                4.344548e+06\n",
      "         Bangladesh              3.261936e+06\n",
      "         Paraguay                3.088450e+06\n",
      "sugar    Algeria                 6.946459e+06\n",
      "         Bangladesh              6.534764e+06\n",
      "         India                   5.299438e+06\n",
      "         United Arab Emirates    4.750966e+06\n",
      "         Saudi Arabia            4.349359e+06\n",
      "         Nigeria                 4.299205e+06\n",
      "         Iraq                    3.622341e+06\n",
      "         Egypt                   3.155636e+06\n",
      "         Malaysia                3.106759e+06\n",
      "         Morocco                 2.975323e+06\n",
      "Name: tons, dtype: float64\n",
      "product  country             \n",
      "corn     Iran                    2.885909e+09\n",
      "         Japan                   1.587077e+09\n",
      "         Vietnam                 1.581920e+09\n",
      "         Egypt                   1.382825e+09\n",
      "         Spain                   1.335780e+09\n",
      "         South Korea             1.024568e+09\n",
      "         Taiwan                  8.276456e+08\n",
      "         Malaysia                7.158694e+08\n",
      "         Bangladesh              5.336367e+08\n",
      "         Paraguay                5.215875e+08\n",
      "sugar    Algeria                 2.273125e+09\n",
      "         Bangladesh              2.140768e+09\n",
      "         India                   1.778902e+09\n",
      "         United Arab Emirates    1.625861e+09\n",
      "         Saudi Arabia            1.421949e+09\n",
      "         Nigeria                 1.401029e+09\n",
      "         Iraq                    1.184731e+09\n",
      "         Malaysia                1.089955e+09\n",
      "         Egypt                   1.047027e+09\n",
      "         Morocco                 9.882234e+08\n",
      "Name: usd, dtype: float64\n"
     ]
    }
   ],
   "source": [
    "data2 = copy.deepcopy(data)\n",
    "data2['date'] = pd.to_datetime(data2['date'], format = '%Y-%m-%d')\n",
    "data2 = data2[(data2['date'] >= '2016-12-01') & ((data2['product'] == 'corn') | \n",
    "                                                (data2['product'] == 'sugar'))]\n",
    "print(data2[data2['country'] == 'Brazil'])\n",
    "data3 = copy.deepcopy(data)\n",
    "data3['date'] = pd.to_datetime(data3['date'], format = '%Y-%m-%d')\n",
    "data3['country'] = data3['country'].astype(str)\n",
    "data3['product'] = data3['product'].astype(str)\n",
    "data3['type'] = data3['type'].astype(str)\n",
    "data3 = data3[(data3['product'] == 'corn') | (data3['product'] == 'sugar')]\n",
    "data3 = data3[(data3['date'] >= '2016-12-01')]\n",
    "print('----------------------------------------')\n",
    "print(data3.groupby(['product', 'country']).agg({'tons': sum, 'usd': sum}))\n",
    "agg_product = data3.groupby(['product', 'country']).agg({'tons': sum, 'usd': sum})\n",
    "g = agg_product['tons'].groupby(level=0, group_keys=False)\n",
    "h = agg_product['usd'].groupby(level=0, group_keys=False)\n",
    "print(g.nlargest(10))\n",
    "print(h.nlargest(10))\n",
    "#print(data3['product'].unique())\n",
    "#data3.head()\n",
    "#df.groupby(['job','source']).agg({'count':sum})"
   ]
  },
  {
   "cell_type": "code",
   "execution_count": 13,
   "metadata": {},
   "outputs": [
    {
     "data": {
      "text/plain": [
       "Index(['Iran', 'Japan', 'Vietnam', 'Egypt', 'Spain', 'South Korea', 'Taiwan',\n",
       "       'Malaysia', 'Bangladesh', 'Paraguay'],\n",
       "      dtype='object', name='country')"
      ]
     },
     "execution_count": 13,
     "metadata": {},
     "output_type": "execute_result"
    }
   ],
   "source": [
    "sort_tons = g.nlargest(10)\n",
    "sort_usd = h.nlargest(10)\n",
    "\n",
    "sort_tons['corn'].keys()"
   ]
  },
  {
   "cell_type": "code",
   "execution_count": 14,
   "metadata": {},
   "outputs": [],
   "source": [
    "perc_corn_tons = sort_tons['corn'].values/sort_tons['corn'].values.sum()\n",
    "labels_corn_tons = list(sort_tons['corn'].keys())\n",
    "  \n",
    "perc_corn_usd = sort_usd['corn'].values/sort_usd['corn'].values.sum()\n",
    "labels_corn_usd = list(sort_usd['corn'].keys())\n",
    "    \n",
    "perc_sugar_tons = sort_tons['sugar'].values/sort_tons['sugar'].values.sum()\n",
    "labels_sugar_tons = list(sort_tons['sugar'].keys())\n",
    "                                 \n",
    "perc_sugar_usd = sort_usd['sugar'].values/sort_usd['sugar'].values.sum()\n",
    "labels_sugar_usd = list(sort_usd['sugar'].keys())"
   ]
  },
  {
   "cell_type": "code",
   "execution_count": 15,
   "metadata": {},
   "outputs": [
    {
     "data": {
      "text/plain": [
       "<Figure size 432x288 with 0 Axes>"
      ]
     },
     "metadata": {},
     "output_type": "display_data"
    },
    {
     "data": {
      "text/plain": [
       "<Figure size 864x936 with 0 Axes>"
      ]
     },
     "metadata": {},
     "output_type": "display_data"
    },
    {
     "data": {
      "image/png": "[encoded data removed]",
      "text/plain": [
       "<Figure size 864x936 with 1 Axes>"
      ]
     },
     "metadata": {},
     "output_type": "display_data"
    },
    {
     "data": {
      "image/png": "[encoded data removed]",
      "text/plain": [
       "<Figure size 864x936 with 1 Axes>"
      ]
     },
     "metadata": {},
     "output_type": "display_data"
    }
   ],
   "source": [
    "gs = gridspec.GridSpec(nrows=2, ncols=1)\n",
    "pl.figure()\n",
    "plt.figure(figsize=(12,13))\n",
    "\n",
    "plt.figure(figsize=(12,13))\n",
    "ax1 = pl.subplot(gs[0, 0])\n",
    "ax1.pie(perc_corn_tons, labels=labels_corn_tons, autopct='%1.1f%%',\n",
    "        shadow=True, startangle=400)\n",
    "ax1.axis('equal')  # Equal aspect ratio ensures that pie is drawn as a circle.\n",
    "plt.title('corn (tons)')\n",
    "plt.show()\n",
    "\n",
    "plt.figure(figsize=(12,13))\n",
    "ax2 = pl.subplot(gs[1, 0])\n",
    "ax2.pie(perc_corn_usd, labels=labels_corn_usd, autopct='%1.1f%%',\n",
    "        shadow=True, startangle=400)\n",
    "ax2.axis('equal')  # Equal aspect ratio ensures that pie is drawn as a circle.\n",
    "plt.title('corn (usd)')\n",
    "plt.show()"
   ]
  },
  {
   "cell_type": "code",
   "execution_count": 16,
   "metadata": {},
   "outputs": [
    {
     "data": {
      "text/plain": [
       "<Figure size 432x288 with 0 Axes>"
      ]
     },
     "metadata": {},
     "output_type": "display_data"
    },
    {
     "data": {
      "text/plain": [
       "<Figure size 864x936 with 0 Axes>"
      ]
     },
     "metadata": {},
     "output_type": "display_data"
    },
    {
     "data": {
      "image/png": "[encoded data removed]",
      "text/plain": [
       "<Figure size 864x936 with 1 Axes>"
      ]
     },
     "metadata": {},
     "output_type": "display_data"
    },
    {
     "data": {
      "image/png": "[encoded data removed]",
      "text/plain": [
       "<Figure size 864x936 with 1 Axes>"
      ]
     },
     "metadata": {},
     "output_type": "display_data"
    }
   ],
   "source": [
    "gs = gridspec.GridSpec(nrows=2, ncols=1)\n",
    "pl.figure()\n",
    "plt.figure(figsize=(12,13))\n",
    "\n",
    "plt.figure(figsize=(12,13))\n",
    "ax1 = pl.subplot(gs[0, 0])\n",
    "ax1.pie(perc_sugar_tons, labels=labels_sugar_tons, autopct='%1.1f%%',\n",
    "        shadow=True, startangle=400)\n",
    "ax1.axis('equal')  # Equal aspect ratio ensures that pie is drawn as a circle.\n",
    "plt.title('sugar (tons)')\n",
    "plt.show()\n",
    "\n",
    "plt.figure(figsize=(12,13))\n",
    "ax2 = pl.subplot(gs[1, 0])\n",
    "ax2.pie(perc_sugar_usd, labels=labels_sugar_usd, autopct='%1.1f%%',\n",
    "        shadow=True, startangle=400)\n",
    "ax2.axis('equal')  # Equal aspect ratio ensures that pie is drawn as a circle.\n",
    "plt.title('sugar (usd)')\n",
    "plt.show()"
   ]
  },
  {
   "cell_type": "markdown",
   "metadata": {},
   "source": [
    "# Question 5\n",
    "For each of the products in the dataset, show the 5 most important states in terms of exports?"
   ]
  },
  {
   "cell_type": "code",
   "execution_count": 17,
   "metadata": {},
   "outputs": [
    {
     "name": "stdout",
     "output_type": "stream",
     "text": [
      "product       state\n",
      "corn          MT       1.518234e+08\n",
      "              PR       5.386247e+07\n",
      "              GO       2.846462e+07\n",
      "              MS       1.827060e+07\n",
      "              SP       7.343888e+06\n",
      "soybean_meal  PR       8.639237e+07\n",
      "              MT       7.946227e+07\n",
      "              RS       4.892746e+07\n",
      "              GO       2.868658e+07\n",
      "              BA       1.736806e+07\n",
      "soybean_oil   PR       1.648205e+07\n",
      "              RS       9.279786e+06\n",
      "              MT       7.423877e+06\n",
      "              SC       1.786134e+06\n",
      "              GO       1.094295e+06\n",
      "soybeans      MT       2.157785e+08\n",
      "              PR       1.345502e+08\n",
      "              RS       1.196807e+08\n",
      "              GO       5.702533e+07\n",
      "              SP       3.460050e+07\n",
      "sugar         SP       1.879603e+08\n",
      "              MG       2.318293e+07\n",
      "              PR       2.198688e+07\n",
      "              AL       1.261794e+07\n",
      "              MS       8.406289e+06\n",
      "wheat         RS       6.734981e+06\n",
      "              PR       8.249746e+05\n",
      "              SC       8.134092e+04\n",
      "              SP       1.006682e+04\n",
      "              MS       9.101080e+02\n",
      "Name: tons, dtype: float64\n",
      "------------------\n",
      "product       state\n",
      "corn          MT       2.837552e+10\n",
      "              PR       9.160512e+09\n",
      "              GO       5.706991e+09\n",
      "              MS       3.405431e+09\n",
      "              SP       1.511122e+09\n",
      "soybean_meal  MT       2.799454e+10\n",
      "              PR       2.464996e+10\n",
      "              RS       1.500739e+10\n",
      "              GO       9.421431e+09\n",
      "              BA       5.439266e+09\n",
      "soybean_oil   PR       1.110910e+10\n",
      "              RS       6.281965e+09\n",
      "              MT       5.434514e+09\n",
      "              SC       1.238811e+09\n",
      "              GO       8.559207e+08\n",
      "soybeans      MT       8.050678e+10\n",
      "              PR       4.848410e+10\n",
      "              RS       4.613673e+10\n",
      "              GO       2.126883e+10\n",
      "              MS       1.328482e+10\n",
      "sugar         SP       6.621186e+10\n",
      "              MG       8.559401e+09\n",
      "              PR       8.270779e+09\n",
      "              AL       4.826419e+09\n",
      "              MS       3.219035e+09\n",
      "wheat         RS       1.555925e+09\n",
      "              PR       1.839354e+08\n",
      "              SC       2.540009e+07\n",
      "              SP       2.267024e+06\n",
      "              MS       2.757330e+05\n",
      "Name: usd, dtype: float64\n",
      "------------------\n",
      "                      tons           usd\n",
      "product state                           \n",
      "corn    AC        8347.480  1.857114e+06\n",
      "        AL           0.010  1.800000e+01\n",
      "        AM           0.815  6.620000e+02\n",
      "        AP         858.682  2.498760e+05\n",
      "        BA      641051.982  1.476464e+08\n",
      "...                    ...           ...\n",
      "wheat   RJ          23.637  3.124800e+04\n",
      "        RO           1.870  3.275000e+03\n",
      "        RS     6734981.032  1.555925e+09\n",
      "        SC       81340.920  2.540009e+07\n",
      "        SP       10066.817  2.267024e+06\n",
      "\n",
      "[136 rows x 2 columns]\n"
     ]
    }
   ],
   "source": [
    "data2 = copy.deepcopy(data)\n",
    "data2['country'] = data2['country'].astype(str)\n",
    "data2['product'] = data2['product'].astype(str)\n",
    "data2['type'] = data2['type'].astype(str)\n",
    "data2 = data2[data2['type'] == 'Export']\n",
    "data2.head()\n",
    "\n",
    "#print(data2.groupby(['product', 'state']).agg({'tons': sum, 'usd': sum}))\n",
    "agg_product = data2.groupby(['product', 'state']).agg({'tons': sum, 'usd': sum})\n",
    "g = agg_product['tons'].groupby(level=0, group_keys=False)\n",
    "h = agg_product['usd'].groupby(level=0, group_keys=False)\n",
    "print(g.nlargest(5))\n",
    "print('------------------')\n",
    "print(h.nlargest(5))\n",
    "print('------------------')\n",
    "print(agg_product)\n",
    "df = pd.DataFrame(agg_product)\n",
    "df_corn = pd.DataFrame(columns=['product', 'state', 'tons', 'usd'])\n",
    "df_corn['product'] = sorted(data['product'].unique())"
   ]
  },
  {
   "cell_type": "code",
   "execution_count": 18,
   "metadata": {},
   "outputs": [
    {
     "data": {
      "text/plain": [
       "state\n",
       "AC    1.518234e+08\n",
       "AL    5.386247e+07\n",
       "AM    2.846462e+07\n",
       "AP    1.827060e+07\n",
       "BA    7.343888e+06\n",
       "CE    6.046378e+06\n",
       "DF    3.496235e+06\n",
       "ES    2.351539e+06\n",
       "GO    2.331495e+06\n",
       "MA    1.573766e+06\n",
       "MG    1.320958e+06\n",
       "MS    8.002797e+05\n",
       "MT    6.410520e+05\n",
       "PA    3.569633e+05\n",
       "PB    1.616488e+05\n",
       "PE    4.464299e+04\n",
       "PI    1.744149e+04\n",
       "PR    8.347480e+03\n",
       "RJ    2.326090e+03\n",
       "RN    2.212161e+03\n",
       "RO    1.813593e+03\n",
       "RR    8.586820e+02\n",
       "RS    6.907500e+01\n",
       "SC    8.150000e-01\n",
       "SP    1.000000e-01\n",
       "TO    1.000000e-02\n",
       "Name: tons, dtype: float64"
      ]
     },
     "execution_count": 18,
     "metadata": {},
     "output_type": "execute_result"
    }
   ],
   "source": [
    "agg_product['tons']['corn'] = agg_product['tons']['corn'].sort_values(ascending=False)\n",
    "agg_product['tons']['corn']\n",
    "#data = data.set_index(data.columns[1])"
   ]
  },
  {
   "cell_type": "code",
   "execution_count": 19,
   "metadata": {},
   "outputs": [
    {
     "data": {
      "text/plain": [
       "state\n",
       "AC    1.518234e+08\n",
       "AL    5.386247e+07\n",
       "AM    2.846462e+07\n",
       "AP    1.827060e+07\n",
       "BA    7.343888e+06\n",
       "Name: tons, dtype: float64"
      ]
     },
     "execution_count": 19,
     "metadata": {},
     "output_type": "execute_result"
    }
   ],
   "source": [
    "df['tons']\n",
    "g = df['tons'].groupby(level=0, group_keys=False)\n",
    "h = df['usd'].groupby(level=0, group_keys=False)\n",
    "\n",
    "dataframe = pd.DataFrame(g.nlargest(5))\n",
    "dataframe2 = pd.DataFrame(h.nlargest(5))\n",
    "\n",
    "final = pd.concat([dataframe, dataframe2], axis=0)\n",
    "\n",
    "#reindex(df1.index)\n",
    "\n",
    "#print(dataframe.head(20))\n",
    "#print(dataframe2.head(20))\n",
    "dataframe['tons']['corn']"
   ]
  },
  {
   "cell_type": "code",
   "execution_count": 20,
   "metadata": {},
   "outputs": [
    {
     "data": {
      "text/plain": [
       "Index(['AC', 'AL', 'AM', 'AP', 'BA', 'MT', 'PR', 'GO', 'MS', 'SP'], dtype='object', name='state')"
      ]
     },
     "execution_count": 20,
     "metadata": {},
     "output_type": "execute_result"
    }
   ],
   "source": [
    "final['tons']['corn'].index"
   ]
  },
  {
   "cell_type": "code",
   "execution_count": 21,
   "metadata": {},
   "outputs": [
    {
     "data": {
      "text/plain": [
       "Text(0, 0.5, '')"
      ]
     },
     "execution_count": 21,
     "metadata": {},
     "output_type": "execute_result"
    },
    {
     "data": {
      "text/plain": [
       "<Figure size 432x288 with 0 Axes>"
      ]
     },
     "metadata": {},
     "output_type": "display_data"
    },
    {
     "data": {
      "image/png": "[encoded data removed]",
      "text/plain": [
       "<Figure size 1080x1080 with 6 Axes>"
      ]
     },
     "metadata": {
      "needs_background": "light"
     },
     "output_type": "display_data"
    }
   ],
   "source": [
    "gs = gridspec.GridSpec(nrows=3, ncols=2)\n",
    "pl.figure()\n",
    "plt.figure(figsize=(15,15))\n",
    "\n",
    "ax = pl.subplot(gs[0, 0])\n",
    "sns.set_style('white')\n",
    "sns.barplot(dataframe['tons']['corn'].index, dataframe['tons']['corn'], palette='rocket')\n",
    "plt.title('corn (tons)')\n",
    "plt.xticks(rotation=90)\n",
    "plt.xlabel('')\n",
    "plt.ylabel('')\n",
    "\n",
    "ax = pl.subplot(gs[0, 1])\n",
    "sns.set_style('white')\n",
    "sns.barplot(dataframe['tons']['soybean_meal'].index, dataframe['tons']['soybean_meal'],\n",
    "           palette='vlag')\n",
    "plt.title('soybean_meal (tons)')\n",
    "plt.xticks(rotation=90)\n",
    "plt.xlabel('')\n",
    "plt.ylabel('')\n",
    "\n",
    "ax = pl.subplot(gs[1, 0])\n",
    "sns.set_style('white')\n",
    "sns.barplot(dataframe['tons']['soybean_oil'].index, dataframe['tons']['soybean_oil'],\n",
    "           palette='deep')\n",
    "plt.title('soybean_oil (tons)')\n",
    "plt.xticks(rotation=90)\n",
    "plt.xlabel('')\n",
    "plt.ylabel('')\n",
    "\n",
    "ax = pl.subplot(gs[1, 1])\n",
    "sns.set_style('white')\n",
    "sns.barplot(dataframe['tons']['soybeans'].index, dataframe['tons']['soybeans'],\n",
    "           palette='pastel')\n",
    "plt.title('soybeans (tons)')\n",
    "plt.xticks(rotation=90)\n",
    "plt.xlabel('')\n",
    "plt.ylabel('')\n",
    "\n",
    "ax = pl.subplot(gs[2, 0])\n",
    "sns.set_style('white')\n",
    "sns.barplot(dataframe['tons']['sugar'].index, dataframe['tons']['sugar'], palette='GnBu_d')\n",
    "plt.title('sugar (tons)')\n",
    "plt.xticks(rotation=90)\n",
    "plt.xlabel('')\n",
    "plt.ylabel('')\n",
    "\n",
    "ax = pl.subplot(gs[2, 1])\n",
    "sns.set_style('white')\n",
    "#sns.palplot(sns.color_palette(\"husl\", 8))\n",
    "sns.barplot(dataframe['tons']['wheat'].index, dataframe['tons']['wheat'], palette='Set2')\n",
    "plt.title('wheat (tons)')\n",
    "plt.xticks(rotation=90)\n",
    "plt.xlabel('')\n",
    "plt.ylabel('')"
   ]
  },
  {
   "cell_type": "code",
   "execution_count": 22,
   "metadata": {},
   "outputs": [
    {
     "data": {
      "text/plain": [
       "Text(0, 0.5, '')"
      ]
     },
     "execution_count": 22,
     "metadata": {},
     "output_type": "execute_result"
    },
    {
     "data": {
      "text/plain": [
       "<Figure size 432x288 with 0 Axes>"
      ]
     },
     "metadata": {},
     "output_type": "display_data"
    },
    {
     "data": {
      "image/png": "[encoded data removed]",
      "text/plain": [
       "<Figure size 1080x1080 with 6 Axes>"
      ]
     },
     "metadata": {},
     "output_type": "display_data"
    }
   ],
   "source": [
    "gs = gridspec.GridSpec(nrows=3, ncols=2)\n",
    "pl.figure()\n",
    "plt.figure(figsize=(15,15))\n",
    "\n",
    "ax = pl.subplot(gs[0, 0])\n",
    "sns.set_style('white')\n",
    "sns.barplot(dataframe2['usd']['corn'].index, dataframe2['usd']['corn'], palette='rocket')\n",
    "plt.title('corn (usd)')\n",
    "plt.xticks(rotation=90)\n",
    "plt.xlabel('')\n",
    "plt.ylabel('')\n",
    "\n",
    "ax = pl.subplot(gs[0, 1])\n",
    "sns.set_style('white')\n",
    "sns.barplot(dataframe2['usd']['soybean_meal'].index, dataframe2['usd']['soybean_meal'],\n",
    "           palette='vlag')\n",
    "plt.title('soybean_meal (usd)')\n",
    "plt.xticks(rotation=90)\n",
    "plt.xlabel('')\n",
    "plt.ylabel('')\n",
    "\n",
    "ax = pl.subplot(gs[1, 0])\n",
    "sns.set_style('white')\n",
    "sns.barplot(dataframe2['usd']['soybean_oil'].index, dataframe2['usd']['soybean_oil'],\n",
    "           palette='deep')\n",
    "plt.title('soybean_oil (usd)')\n",
    "plt.xticks(rotation=90)\n",
    "plt.xlabel('')\n",
    "plt.ylabel('')\n",
    "\n",
    "ax = pl.subplot(gs[1, 1])\n",
    "sns.set_style('white')\n",
    "sns.barplot(dataframe2['usd']['soybeans'].index, dataframe2['usd']['soybeans'],\n",
    "           palette='pastel')\n",
    "plt.title('soybeans (usd)')\n",
    "plt.xticks(rotation=90)\n",
    "plt.xlabel('')\n",
    "plt.ylabel('')\n",
    "\n",
    "ax = pl.subplot(gs[2, 0])\n",
    "sns.set_style('white')\n",
    "sns.barplot(dataframe2['usd']['sugar'].index, dataframe2['usd']['sugar'], palette='GnBu_d')\n",
    "plt.title('sugar (usd)')\n",
    "plt.xticks(rotation=90)\n",
    "plt.xlabel('')\n",
    "plt.ylabel('')\n",
    "\n",
    "ax = pl.subplot(gs[2, 1])\n",
    "sns.set_style('white')\n",
    "#sns.palplot(sns.color_palette(\"husl\", 8))\n",
    "sns.barplot(dataframe2['usd']['wheat'].index, dataframe2['usd']['wheat'], palette='Set2')\n",
    "plt.title('wheat (usd)')\n",
    "plt.xticks(rotation=90)\n",
    "plt.xlabel('')\n",
    "plt.ylabel('')"
   ]
  },
  {
   "cell_type": "markdown",
   "metadata": {},
   "source": [
    "# Question 6\n",
    "Now, we ask you to show your modelling skills. Feel free to use any type of modelling approach, but bear in mind that the modelling approach depends on the nature of your data, and so different models yield different estimates and forecasts. To help you out in this task we also provide you with a dataset of possible covariates (.xlsx). They all come from public sources (IMF, World Bank) and are presented in index number format. Question: What should be the total brazilian soybeans, soybean_meal, and corn export forecasts, in tons, for the next 11 years (2020-2030)? We’re mostly interested in the annual forecast."
   ]
  },
  {
   "cell_type": "code",
   "execution_count": 23,
   "metadata": {},
   "outputs": [
    {
     "data": {
      "text/plain": [
       "year                  0\n",
       "price_soybeans        1\n",
       "price_corn            1\n",
       "price_soybean_meal    1\n",
       "gdp_china             0\n",
       "gdp_iran              0\n",
       "gpd_netherlands       1\n",
       "gdp_spain             0\n",
       "gdp_thailand          0\n",
       "gdp_world             0\n",
       "gdp_egypt             0\n",
       "gdp_japan             0\n",
       "gdp_vietnam           0\n",
       "dtype: int64"
      ]
     },
     "execution_count": 23,
     "metadata": {},
     "output_type": "execute_result"
    }
   ],
   "source": [
    "df = pd.read_excel('covariates.xlsx')\n",
    "df.isna().sum()"
   ]
  },
  {
   "cell_type": "code",
   "execution_count": 24,
   "metadata": {},
   "outputs": [
    {
     "data": {
      "text/html": [
       "<div>\n",
       "<style scoped>\n",
       "    .dataframe tbody tr th:only-of-type {\n",
       "        vertical-align: middle;\n",
       "    }\n",
       "\n",
       "    .dataframe tbody tr th {\n",
       "        vertical-align: top;\n",
       "    }\n",
       "\n",
       "    .dataframe thead th {\n",
       "        text-align: right;\n",
       "    }\n",
       "</style>\n",
       "<table border=\"1\" class=\"dataframe\">\n",
       "  <thead>\n",
       "    <tr style=\"text-align: right;\">\n",
       "      <th></th>\n",
       "      <th>year</th>\n",
       "      <th>price_soybeans</th>\n",
       "      <th>price_corn</th>\n",
       "      <th>price_soybean_meal</th>\n",
       "      <th>gdp_china</th>\n",
       "      <th>gdp_iran</th>\n",
       "      <th>gpd_netherlands</th>\n",
       "      <th>gdp_spain</th>\n",
       "      <th>gdp_thailand</th>\n",
       "      <th>gdp_world</th>\n",
       "      <th>gdp_egypt</th>\n",
       "      <th>gdp_japan</th>\n",
       "      <th>gdp_vietnam</th>\n",
       "    </tr>\n",
       "  </thead>\n",
       "  <tbody>\n",
       "    <tr>\n",
       "      <th>47</th>\n",
       "      <td>2026</td>\n",
       "      <td>145.203519</td>\n",
       "      <td>150.142281</td>\n",
       "      <td>167.410250</td>\n",
       "      <td>5126.923701</td>\n",
       "      <td>208.285085</td>\n",
       "      <td>235.511277</td>\n",
       "      <td>255.045373</td>\n",
       "      <td>852.031753</td>\n",
       "      <td>477.054784</td>\n",
       "      <td>739.037617</td>\n",
       "      <td>215.382241</td>\n",
       "      <td>1691.310433</td>\n",
       "    </tr>\n",
       "    <tr>\n",
       "      <th>48</th>\n",
       "      <td>2027</td>\n",
       "      <td>150.660041</td>\n",
       "      <td>154.391956</td>\n",
       "      <td>171.480405</td>\n",
       "      <td>5362.762191</td>\n",
       "      <td>215.582431</td>\n",
       "      <td>239.985991</td>\n",
       "      <td>259.891235</td>\n",
       "      <td>881.883004</td>\n",
       "      <td>493.768577</td>\n",
       "      <td>764.930077</td>\n",
       "      <td>216.889916</td>\n",
       "      <td>1769.110713</td>\n",
       "    </tr>\n",
       "    <tr>\n",
       "      <th>49</th>\n",
       "      <td>2028</td>\n",
       "      <td>156.116564</td>\n",
       "      <td>158.641630</td>\n",
       "      <td>175.550560</td>\n",
       "      <td>5604.086489</td>\n",
       "      <td>223.147862</td>\n",
       "      <td>244.665718</td>\n",
       "      <td>264.959114</td>\n",
       "      <td>912.830910</td>\n",
       "      <td>511.096390</td>\n",
       "      <td>791.773755</td>\n",
       "      <td>218.408146</td>\n",
       "      <td>1848.720695</td>\n",
       "    </tr>\n",
       "    <tr>\n",
       "      <th>50</th>\n",
       "      <td>2029</td>\n",
       "      <td>161.573086</td>\n",
       "      <td>162.891304</td>\n",
       "      <td>179.620715</td>\n",
       "      <td>5850.666295</td>\n",
       "      <td>230.993806</td>\n",
       "      <td>249.436700</td>\n",
       "      <td>270.125817</td>\n",
       "      <td>944.926309</td>\n",
       "      <td>529.066687</td>\n",
       "      <td>819.612750</td>\n",
       "      <td>219.937003</td>\n",
       "      <td>1930.064405</td>\n",
       "    </tr>\n",
       "    <tr>\n",
       "      <th>51</th>\n",
       "      <td>2030</td>\n",
       "      <td>167.029608</td>\n",
       "      <td>167.140979</td>\n",
       "      <td>183.690870</td>\n",
       "      <td>6102.244946</td>\n",
       "      <td>239.096864</td>\n",
       "      <td>254.300715</td>\n",
       "      <td>275.393270</td>\n",
       "      <td>978.073487</td>\n",
       "      <td>547.625878</td>\n",
       "      <td>848.364039</td>\n",
       "      <td>221.476562</td>\n",
       "      <td>2013.057175</td>\n",
       "    </tr>\n",
       "  </tbody>\n",
       "</table>\n",
       "</div>"
      ],
      "text/plain": [
       "    year  price_soybeans  price_corn  price_soybean_meal    gdp_china  \\\n",
       "47  2026      145.203519  150.142281          167.410250  5126.923701   \n",
       "48  2027      150.660041  154.391956          171.480405  5362.762191   \n",
       "49  2028      156.116564  158.641630          175.550560  5604.086489   \n",
       "50  2029      161.573086  162.891304          179.620715  5850.666295   \n",
       "51  2030      167.029608  167.140979          183.690870  6102.244946   \n",
       "\n",
       "      gdp_iran  gpd_netherlands   gdp_spain  gdp_thailand   gdp_world  \\\n",
       "47  208.285085       235.511277  255.045373    852.031753  477.054784   \n",
       "48  215.582431       239.985991  259.891235    881.883004  493.768577   \n",
       "49  223.147862       244.665718  264.959114    912.830910  511.096390   \n",
       "50  230.993806       249.436700  270.125817    944.926309  529.066687   \n",
       "51  239.096864       254.300715  275.393270    978.073487  547.625878   \n",
       "\n",
       "     gdp_egypt   gdp_japan  gdp_vietnam  \n",
       "47  739.037617  215.382241  1691.310433  \n",
       "48  764.930077  216.889916  1769.110713  \n",
       "49  791.773755  218.408146  1848.720695  \n",
       "50  819.612750  219.937003  1930.064405  \n",
       "51  848.364039  221.476562  2013.057175  "
      ]
     },
     "execution_count": 24,
     "metadata": {},
     "output_type": "execute_result"
    }
   ],
   "source": [
    "df['price_soybeans'].fillna(df['price_soybeans'].mean(), inplace=True)\n",
    "df['price_corn'].fillna(df['price_corn'].mean(), inplace=True)\n",
    "df['price_soybean_meal'].fillna(df['price_soybean_meal'].mean(), inplace=True)\n",
    "df['gpd_netherlands'].fillna(df['gpd_netherlands'].mean(), inplace=True)\n",
    "df.tail()"
   ]
  },
  {
   "cell_type": "code",
   "execution_count": 25,
   "metadata": {},
   "outputs": [
    {
     "name": "stderr",
     "output_type": "stream",
     "text": [
      "/home/renata/.local/lib/python3.6/site-packages/ipykernel_launcher.py:3: SettingWithCopyWarning: \n",
      "A value is trying to be set on a copy of a slice from a DataFrame\n",
      "\n",
      "See the caveats in the documentation: https://pandas.pydata.org/pandas-docs/stable/user_guide/indexing.html#returning-a-view-versus-a-copy\n",
      "  This is separate from the ipykernel package so we can avoid doing imports until\n"
     ]
    }
   ],
   "source": [
    "comex = pd.read_csv('data_comexstat.csv', sep=',', encoding='cp860')\n",
    "for i in range(0, len(comex)):\n",
    "    comex['date'][i] = int(comex['date'][i][0:4])"
   ]
  },
  {
   "cell_type": "code",
   "execution_count": 26,
   "metadata": {},
   "outputs": [
    {
     "data": {
      "text/plain": [
       "Index(['date', 'product', 'state', 'country', 'type', 'route', 'tons', 'usd'], dtype='object')"
      ]
     },
     "execution_count": 26,
     "metadata": {},
     "output_type": "execute_result"
    }
   ],
   "source": [
    "comex = comex[comex['type'] == 'Export']\n",
    "#comex.set_index('date', inplace=True)\n",
    "comex.columns"
   ]
  },
  {
   "cell_type": "code",
   "execution_count": 79,
   "metadata": {},
   "outputs": [
    {
     "data": {
      "text/html": [
       "<div>\n",
       "<style scoped>\n",
       "    .dataframe tbody tr th:only-of-type {\n",
       "        vertical-align: middle;\n",
       "    }\n",
       "\n",
       "    .dataframe tbody tr th {\n",
       "        vertical-align: top;\n",
       "    }\n",
       "\n",
       "    .dataframe thead th {\n",
       "        text-align: right;\n",
       "    }\n",
       "</style>\n",
       "<table border=\"1\" class=\"dataframe\">\n",
       "  <thead>\n",
       "    <tr style=\"text-align: right;\">\n",
       "      <th></th>\n",
       "      <th>date</th>\n",
       "      <th>product</th>\n",
       "      <th>state</th>\n",
       "      <th>country</th>\n",
       "      <th>type</th>\n",
       "      <th>route</th>\n",
       "      <th>tons</th>\n",
       "      <th>usd</th>\n",
       "    </tr>\n",
       "  </thead>\n",
       "  <tbody>\n",
       "    <tr>\n",
       "      <th>117952</th>\n",
       "      <td>2019</td>\n",
       "      <td>wheat</td>\n",
       "      <td>PR</td>\n",
       "      <td>United States</td>\n",
       "      <td>Export</td>\n",
       "      <td>Sea</td>\n",
       "      <td>0.400</td>\n",
       "      <td>400.0</td>\n",
       "    </tr>\n",
       "    <tr>\n",
       "      <th>117957</th>\n",
       "      <td>2019</td>\n",
       "      <td>wheat</td>\n",
       "      <td>RS</td>\n",
       "      <td>Vietnam</td>\n",
       "      <td>Export</td>\n",
       "      <td>Sea</td>\n",
       "      <td>36698.000</td>\n",
       "      <td>6963002.0</td>\n",
       "    </tr>\n",
       "    <tr>\n",
       "      <th>117961</th>\n",
       "      <td>2019</td>\n",
       "      <td>wheat</td>\n",
       "      <td>SP</td>\n",
       "      <td>Ireland</td>\n",
       "      <td>Export</td>\n",
       "      <td>Sea</td>\n",
       "      <td>0.500</td>\n",
       "      <td>477.0</td>\n",
       "    </tr>\n",
       "    <tr>\n",
       "      <th>117963</th>\n",
       "      <td>2019</td>\n",
       "      <td>wheat</td>\n",
       "      <td>SP</td>\n",
       "      <td>Liberia</td>\n",
       "      <td>Export</td>\n",
       "      <td>Other</td>\n",
       "      <td>0.025</td>\n",
       "      <td>50.0</td>\n",
       "    </tr>\n",
       "    <tr>\n",
       "      <th>117964</th>\n",
       "      <td>2019</td>\n",
       "      <td>wheat</td>\n",
       "      <td>SP</td>\n",
       "      <td>Marshall Islands</td>\n",
       "      <td>Export</td>\n",
       "      <td>Other</td>\n",
       "      <td>0.010</td>\n",
       "      <td>85.0</td>\n",
       "    </tr>\n",
       "  </tbody>\n",
       "</table>\n",
       "</div>"
      ],
      "text/plain": [
       "        date product state           country    type  route       tons  \\\n",
       "117952  2019   wheat    PR     United States  Export    Sea      0.400   \n",
       "117957  2019   wheat    RS           Vietnam  Export    Sea  36698.000   \n",
       "117961  2019   wheat    SP           Ireland  Export    Sea      0.500   \n",
       "117963  2019   wheat    SP           Liberia  Export  Other      0.025   \n",
       "117964  2019   wheat    SP  Marshall Islands  Export  Other      0.010   \n",
       "\n",
       "              usd  \n",
       "117952      400.0  \n",
       "117957  6963002.0  \n",
       "117961      477.0  \n",
       "117963       50.0  \n",
       "117964       85.0  "
      ]
     },
     "execution_count": 79,
     "metadata": {},
     "output_type": "execute_result"
    }
   ],
   "source": [
    "comex.tail()"
   ]
  },
  {
   "cell_type": "code",
   "execution_count": 46,
   "metadata": {},
   "outputs": [],
   "source": [
    "covariates = copy.deepcopy(df)\n",
    "covariates = pd.DataFrame(df)\n",
    "#total_exports = []\n",
    "#for i in range(0, len(covariates)):\n",
    "   # total_exports.append(comex.groupby('date').sum()[i])\n",
    "covariates['year'] = covariates['year'].astype(int)\n",
    "covariates = covariates[covariates['year'] >= 1997]\n",
    "#covariates = covariates[covariates['type'] == 'Export']\n",
    "covariates.rename(columns={'year':'date'}, inplace=True)\n",
    "covariates.set_index('date', inplace=True)\n",
    "merged = pd.merge(covariates, comex, on='date')\n",
    "merged.drop(['state', 'route', 'usd', 'country'], axis=1, inplace=True)\n",
    "#merged['total_exports'] = total_exports"
   ]
  },
  {
   "cell_type": "code",
   "execution_count": 48,
   "metadata": {},
   "outputs": [
    {
     "data": {
      "text/plain": [
       "date                    int64\n",
       "price_soybeans        float64\n",
       "price_corn            float64\n",
       "price_soybean_meal    float64\n",
       "gdp_china             float64\n",
       "gdp_iran              float64\n",
       "gpd_netherlands       float64\n",
       "gdp_spain             float64\n",
       "gdp_thailand          float64\n",
       "gdp_world             float64\n",
       "gdp_egypt             float64\n",
       "gdp_japan             float64\n",
       "gdp_vietnam           float64\n",
       "product                object\n",
       "type                   object\n",
       "tons                  float64\n",
       "dtype: object"
      ]
     },
     "execution_count": 48,
     "metadata": {},
     "output_type": "execute_result"
    }
   ],
   "source": [
    "merged.dtypes"
   ]
  },
  {
   "cell_type": "code",
   "execution_count": 90,
   "metadata": {},
   "outputs": [
    {
     "data": {
      "text/plain": [
       "'product'"
      ]
     },
     "execution_count": 90,
     "metadata": {},
     "output_type": "execute_result"
    }
   ],
   "source": [
    "merged.columns[12]"
   ]
  },
  {
   "cell_type": "code",
   "execution_count": 106,
   "metadata": {},
   "outputs": [
    {
     "data": {
      "text/plain": [
       "Series([], Name: tons, dtype: float64)"
      ]
     },
     "execution_count": 106,
     "metadata": {},
     "output_type": "execute_result"
    }
   ],
   "source": [
    "\n",
    "merged[merged['product'] == 'soybeans']['tons'][int(0.8*l)+1:l]"
   ]
  },
  {
   "cell_type": "code",
   "execution_count": 111,
   "metadata": {},
   "outputs": [
    {
     "data": {
      "text/html": [
       "<div>\n",
       "<style scoped>\n",
       "    .dataframe tbody tr th:only-of-type {\n",
       "        vertical-align: middle;\n",
       "    }\n",
       "\n",
       "    .dataframe tbody tr th {\n",
       "        vertical-align: top;\n",
       "    }\n",
       "\n",
       "    .dataframe thead th {\n",
       "        text-align: right;\n",
       "    }\n",
       "</style>\n",
       "<table border=\"1\" class=\"dataframe\">\n",
       "  <thead>\n",
       "    <tr style=\"text-align: right;\">\n",
       "      <th></th>\n",
       "      <th>price_corn</th>\n",
       "      <th>price_soybean_meal</th>\n",
       "      <th>gdp_china</th>\n",
       "      <th>gdp_iran</th>\n",
       "      <th>gpd_netherlands</th>\n",
       "      <th>gdp_spain</th>\n",
       "      <th>gdp_thailand</th>\n",
       "      <th>gdp_world</th>\n",
       "      <th>gdp_egypt</th>\n",
       "      <th>gdp_japan</th>\n",
       "      <th>gdp_vietnam</th>\n",
       "    </tr>\n",
       "    <tr>\n",
       "      <th>date</th>\n",
       "      <th></th>\n",
       "      <th></th>\n",
       "      <th></th>\n",
       "      <th></th>\n",
       "      <th></th>\n",
       "      <th></th>\n",
       "      <th></th>\n",
       "      <th></th>\n",
       "      <th></th>\n",
       "      <th></th>\n",
       "      <th></th>\n",
       "    </tr>\n",
       "  </thead>\n",
       "  <tbody>\n",
       "    <tr>\n",
       "      <th>1997</th>\n",
       "      <td>93.204180</td>\n",
       "      <td>124.012650</td>\n",
       "      <td>560.722750</td>\n",
       "      <td>106.976296</td>\n",
       "      <td>152.738204</td>\n",
       "      <td>156.728085</td>\n",
       "      <td>345.124057</td>\n",
       "      <td>173.936618</td>\n",
       "      <td>218.683678</td>\n",
       "      <td>180.133771</td>\n",
       "      <td>299.095195</td>\n",
       "    </tr>\n",
       "    <tr>\n",
       "      <th>1997</th>\n",
       "      <td>93.204180</td>\n",
       "      <td>124.012650</td>\n",
       "      <td>560.722750</td>\n",
       "      <td>106.976296</td>\n",
       "      <td>152.738204</td>\n",
       "      <td>156.728085</td>\n",
       "      <td>345.124057</td>\n",
       "      <td>173.936618</td>\n",
       "      <td>218.683678</td>\n",
       "      <td>180.133771</td>\n",
       "      <td>299.095195</td>\n",
       "    </tr>\n",
       "    <tr>\n",
       "      <th>1997</th>\n",
       "      <td>93.204180</td>\n",
       "      <td>124.012650</td>\n",
       "      <td>560.722750</td>\n",
       "      <td>106.976296</td>\n",
       "      <td>152.738204</td>\n",
       "      <td>156.728085</td>\n",
       "      <td>345.124057</td>\n",
       "      <td>173.936618</td>\n",
       "      <td>218.683678</td>\n",
       "      <td>180.133771</td>\n",
       "      <td>299.095195</td>\n",
       "    </tr>\n",
       "    <tr>\n",
       "      <th>1997</th>\n",
       "      <td>93.204180</td>\n",
       "      <td>124.012650</td>\n",
       "      <td>560.722750</td>\n",
       "      <td>106.976296</td>\n",
       "      <td>152.738204</td>\n",
       "      <td>156.728085</td>\n",
       "      <td>345.124057</td>\n",
       "      <td>173.936618</td>\n",
       "      <td>218.683678</td>\n",
       "      <td>180.133771</td>\n",
       "      <td>299.095195</td>\n",
       "    </tr>\n",
       "    <tr>\n",
       "      <th>1997</th>\n",
       "      <td>93.204180</td>\n",
       "      <td>124.012650</td>\n",
       "      <td>560.722750</td>\n",
       "      <td>106.976296</td>\n",
       "      <td>152.738204</td>\n",
       "      <td>156.728085</td>\n",
       "      <td>345.124057</td>\n",
       "      <td>173.936618</td>\n",
       "      <td>218.683678</td>\n",
       "      <td>180.133771</td>\n",
       "      <td>299.095195</td>\n",
       "    </tr>\n",
       "    <tr>\n",
       "      <th>...</th>\n",
       "      <td>...</td>\n",
       "      <td>...</td>\n",
       "      <td>...</td>\n",
       "      <td>...</td>\n",
       "      <td>...</td>\n",
       "      <td>...</td>\n",
       "      <td>...</td>\n",
       "      <td>...</td>\n",
       "      <td>...</td>\n",
       "      <td>...</td>\n",
       "      <td>...</td>\n",
       "    </tr>\n",
       "    <tr>\n",
       "      <th>2019</th>\n",
       "      <td>135.360386</td>\n",
       "      <td>148.243872</td>\n",
       "      <td>3641.963747</td>\n",
       "      <td>180.797779</td>\n",
       "      <td>228.377541</td>\n",
       "      <td>245.564711</td>\n",
       "      <td>724.069393</td>\n",
       "      <td>391.072203</td>\n",
       "      <td>592.918083</td>\n",
       "      <td>212.174276</td>\n",
       "      <td>1208.233913</td>\n",
       "    </tr>\n",
       "    <tr>\n",
       "      <th>2019</th>\n",
       "      <td>135.360386</td>\n",
       "      <td>148.243872</td>\n",
       "      <td>3641.963747</td>\n",
       "      <td>180.797779</td>\n",
       "      <td>228.377541</td>\n",
       "      <td>245.564711</td>\n",
       "      <td>724.069393</td>\n",
       "      <td>391.072203</td>\n",
       "      <td>592.918083</td>\n",
       "      <td>212.174276</td>\n",
       "      <td>1208.233913</td>\n",
       "    </tr>\n",
       "    <tr>\n",
       "      <th>2019</th>\n",
       "      <td>135.360386</td>\n",
       "      <td>148.243872</td>\n",
       "      <td>3641.963747</td>\n",
       "      <td>180.797779</td>\n",
       "      <td>228.377541</td>\n",
       "      <td>245.564711</td>\n",
       "      <td>724.069393</td>\n",
       "      <td>391.072203</td>\n",
       "      <td>592.918083</td>\n",
       "      <td>212.174276</td>\n",
       "      <td>1208.233913</td>\n",
       "    </tr>\n",
       "    <tr>\n",
       "      <th>2019</th>\n",
       "      <td>135.360386</td>\n",
       "      <td>148.243872</td>\n",
       "      <td>3641.963747</td>\n",
       "      <td>180.797779</td>\n",
       "      <td>228.377541</td>\n",
       "      <td>245.564711</td>\n",
       "      <td>724.069393</td>\n",
       "      <td>391.072203</td>\n",
       "      <td>592.918083</td>\n",
       "      <td>212.174276</td>\n",
       "      <td>1208.233913</td>\n",
       "    </tr>\n",
       "    <tr>\n",
       "      <th>2019</th>\n",
       "      <td>135.360386</td>\n",
       "      <td>148.243872</td>\n",
       "      <td>3641.963747</td>\n",
       "      <td>180.797779</td>\n",
       "      <td>228.377541</td>\n",
       "      <td>245.564711</td>\n",
       "      <td>724.069393</td>\n",
       "      <td>391.072203</td>\n",
       "      <td>592.918083</td>\n",
       "      <td>212.174276</td>\n",
       "      <td>1208.233913</td>\n",
       "    </tr>\n",
       "  </tbody>\n",
       "</table>\n",
       "<p>21817 rows × 11 columns</p>\n",
       "</div>"
      ],
      "text/plain": [
       "      price_corn  price_soybean_meal    gdp_china    gdp_iran  \\\n",
       "date                                                            \n",
       "1997   93.204180          124.012650   560.722750  106.976296   \n",
       "1997   93.204180          124.012650   560.722750  106.976296   \n",
       "1997   93.204180          124.012650   560.722750  106.976296   \n",
       "1997   93.204180          124.012650   560.722750  106.976296   \n",
       "1997   93.204180          124.012650   560.722750  106.976296   \n",
       "...          ...                 ...          ...         ...   \n",
       "2019  135.360386          148.243872  3641.963747  180.797779   \n",
       "2019  135.360386          148.243872  3641.963747  180.797779   \n",
       "2019  135.360386          148.243872  3641.963747  180.797779   \n",
       "2019  135.360386          148.243872  3641.963747  180.797779   \n",
       "2019  135.360386          148.243872  3641.963747  180.797779   \n",
       "\n",
       "      gpd_netherlands   gdp_spain  gdp_thailand   gdp_world   gdp_egypt  \\\n",
       "date                                                                      \n",
       "1997       152.738204  156.728085    345.124057  173.936618  218.683678   \n",
       "1997       152.738204  156.728085    345.124057  173.936618  218.683678   \n",
       "1997       152.738204  156.728085    345.124057  173.936618  218.683678   \n",
       "1997       152.738204  156.728085    345.124057  173.936618  218.683678   \n",
       "1997       152.738204  156.728085    345.124057  173.936618  218.683678   \n",
       "...               ...         ...           ...         ...         ...   \n",
       "2019       228.377541  245.564711    724.069393  391.072203  592.918083   \n",
       "2019       228.377541  245.564711    724.069393  391.072203  592.918083   \n",
       "2019       228.377541  245.564711    724.069393  391.072203  592.918083   \n",
       "2019       228.377541  245.564711    724.069393  391.072203  592.918083   \n",
       "2019       228.377541  245.564711    724.069393  391.072203  592.918083   \n",
       "\n",
       "       gdp_japan  gdp_vietnam  \n",
       "date                           \n",
       "1997  180.133771   299.095195  \n",
       "1997  180.133771   299.095195  \n",
       "1997  180.133771   299.095195  \n",
       "1997  180.133771   299.095195  \n",
       "1997  180.133771   299.095195  \n",
       "...          ...          ...  \n",
       "2019  212.174276  1208.233913  \n",
       "2019  212.174276  1208.233913  \n",
       "2019  212.174276  1208.233913  \n",
       "2019  212.174276  1208.233913  \n",
       "2019  212.174276  1208.233913  \n",
       "\n",
       "[21817 rows x 11 columns]"
      ]
     },
     "execution_count": 111,
     "metadata": {},
     "output_type": "execute_result"
    }
   ],
   "source": [
    "l = len(merged)\n",
    "L = int(0.8*l)\n",
    "soybeans = merged[merged['product'] == 'soybeans']\n",
    "X_train_soybeans = soybeans.iloc[0:L, 1:12]\n",
    "y_train_soybeans = merged[merged['product'] == 'soybeans']['tons'][int(0.8*l)+1:l]\n",
    "X_train_soybeans"
   ]
  },
  {
   "cell_type": "code",
   "execution_count": 112,
   "metadata": {},
   "outputs": [
    {
     "data": {
      "text/html": [
       "<div>\n",
       "<style scoped>\n",
       "    .dataframe tbody tr th:only-of-type {\n",
       "        vertical-align: middle;\n",
       "    }\n",
       "\n",
       "    .dataframe tbody tr th {\n",
       "        vertical-align: top;\n",
       "    }\n",
       "\n",
       "    .dataframe thead th {\n",
       "        text-align: right;\n",
       "    }\n",
       "</style>\n",
       "<table border=\"1\" class=\"dataframe\">\n",
       "  <thead>\n",
       "    <tr style=\"text-align: right;\">\n",
       "      <th></th>\n",
       "      <th>price_corn</th>\n",
       "      <th>price_soybean_meal</th>\n",
       "      <th>gdp_china</th>\n",
       "      <th>gdp_iran</th>\n",
       "      <th>gpd_netherlands</th>\n",
       "      <th>gdp_spain</th>\n",
       "      <th>gdp_thailand</th>\n",
       "      <th>gdp_world</th>\n",
       "      <th>gdp_egypt</th>\n",
       "      <th>gdp_japan</th>\n",
       "      <th>gdp_vietnam</th>\n",
       "    </tr>\n",
       "    <tr>\n",
       "      <th>date</th>\n",
       "      <th></th>\n",
       "      <th></th>\n",
       "      <th></th>\n",
       "      <th></th>\n",
       "      <th></th>\n",
       "      <th></th>\n",
       "      <th></th>\n",
       "      <th></th>\n",
       "      <th></th>\n",
       "      <th></th>\n",
       "      <th></th>\n",
       "    </tr>\n",
       "  </thead>\n",
       "  <tbody>\n",
       "    <tr>\n",
       "      <th>1997</th>\n",
       "      <td>93.204180</td>\n",
       "      <td>124.012650</td>\n",
       "      <td>560.722750</td>\n",
       "      <td>106.976296</td>\n",
       "      <td>152.738204</td>\n",
       "      <td>156.728085</td>\n",
       "      <td>345.124057</td>\n",
       "      <td>173.936618</td>\n",
       "      <td>218.683678</td>\n",
       "      <td>180.133771</td>\n",
       "      <td>299.095195</td>\n",
       "    </tr>\n",
       "    <tr>\n",
       "      <th>1997</th>\n",
       "      <td>93.204180</td>\n",
       "      <td>124.012650</td>\n",
       "      <td>560.722750</td>\n",
       "      <td>106.976296</td>\n",
       "      <td>152.738204</td>\n",
       "      <td>156.728085</td>\n",
       "      <td>345.124057</td>\n",
       "      <td>173.936618</td>\n",
       "      <td>218.683678</td>\n",
       "      <td>180.133771</td>\n",
       "      <td>299.095195</td>\n",
       "    </tr>\n",
       "    <tr>\n",
       "      <th>1997</th>\n",
       "      <td>93.204180</td>\n",
       "      <td>124.012650</td>\n",
       "      <td>560.722750</td>\n",
       "      <td>106.976296</td>\n",
       "      <td>152.738204</td>\n",
       "      <td>156.728085</td>\n",
       "      <td>345.124057</td>\n",
       "      <td>173.936618</td>\n",
       "      <td>218.683678</td>\n",
       "      <td>180.133771</td>\n",
       "      <td>299.095195</td>\n",
       "    </tr>\n",
       "    <tr>\n",
       "      <th>1997</th>\n",
       "      <td>93.204180</td>\n",
       "      <td>124.012650</td>\n",
       "      <td>560.722750</td>\n",
       "      <td>106.976296</td>\n",
       "      <td>152.738204</td>\n",
       "      <td>156.728085</td>\n",
       "      <td>345.124057</td>\n",
       "      <td>173.936618</td>\n",
       "      <td>218.683678</td>\n",
       "      <td>180.133771</td>\n",
       "      <td>299.095195</td>\n",
       "    </tr>\n",
       "    <tr>\n",
       "      <th>1997</th>\n",
       "      <td>93.204180</td>\n",
       "      <td>124.012650</td>\n",
       "      <td>560.722750</td>\n",
       "      <td>106.976296</td>\n",
       "      <td>152.738204</td>\n",
       "      <td>156.728085</td>\n",
       "      <td>345.124057</td>\n",
       "      <td>173.936618</td>\n",
       "      <td>218.683678</td>\n",
       "      <td>180.133771</td>\n",
       "      <td>299.095195</td>\n",
       "    </tr>\n",
       "    <tr>\n",
       "      <th>...</th>\n",
       "      <td>...</td>\n",
       "      <td>...</td>\n",
       "      <td>...</td>\n",
       "      <td>...</td>\n",
       "      <td>...</td>\n",
       "      <td>...</td>\n",
       "      <td>...</td>\n",
       "      <td>...</td>\n",
       "      <td>...</td>\n",
       "      <td>...</td>\n",
       "      <td>...</td>\n",
       "    </tr>\n",
       "    <tr>\n",
       "      <th>2017</th>\n",
       "      <td>122.971792</td>\n",
       "      <td>154.470762</td>\n",
       "      <td>3217.035216</td>\n",
       "      <td>206.837835</td>\n",
       "      <td>218.654416</td>\n",
       "      <td>235.107145</td>\n",
       "      <td>678.597904</td>\n",
       "      <td>366.844336</td>\n",
       "      <td>533.215059</td>\n",
       "      <td>210.069173</td>\n",
       "      <td>1054.332935</td>\n",
       "    </tr>\n",
       "    <tr>\n",
       "      <th>2017</th>\n",
       "      <td>122.971792</td>\n",
       "      <td>154.470762</td>\n",
       "      <td>3217.035216</td>\n",
       "      <td>206.837835</td>\n",
       "      <td>218.654416</td>\n",
       "      <td>235.107145</td>\n",
       "      <td>678.597904</td>\n",
       "      <td>366.844336</td>\n",
       "      <td>533.215059</td>\n",
       "      <td>210.069173</td>\n",
       "      <td>1054.332935</td>\n",
       "    </tr>\n",
       "    <tr>\n",
       "      <th>2017</th>\n",
       "      <td>122.971792</td>\n",
       "      <td>154.470762</td>\n",
       "      <td>3217.035216</td>\n",
       "      <td>206.837835</td>\n",
       "      <td>218.654416</td>\n",
       "      <td>235.107145</td>\n",
       "      <td>678.597904</td>\n",
       "      <td>366.844336</td>\n",
       "      <td>533.215059</td>\n",
       "      <td>210.069173</td>\n",
       "      <td>1054.332935</td>\n",
       "    </tr>\n",
       "    <tr>\n",
       "      <th>2017</th>\n",
       "      <td>122.971792</td>\n",
       "      <td>154.470762</td>\n",
       "      <td>3217.035216</td>\n",
       "      <td>206.837835</td>\n",
       "      <td>218.654416</td>\n",
       "      <td>235.107145</td>\n",
       "      <td>678.597904</td>\n",
       "      <td>366.844336</td>\n",
       "      <td>533.215059</td>\n",
       "      <td>210.069173</td>\n",
       "      <td>1054.332935</td>\n",
       "    </tr>\n",
       "    <tr>\n",
       "      <th>2017</th>\n",
       "      <td>122.971792</td>\n",
       "      <td>154.470762</td>\n",
       "      <td>3217.035216</td>\n",
       "      <td>206.837835</td>\n",
       "      <td>218.654416</td>\n",
       "      <td>235.107145</td>\n",
       "      <td>678.597904</td>\n",
       "      <td>366.844336</td>\n",
       "      <td>533.215059</td>\n",
       "      <td>210.069173</td>\n",
       "      <td>1054.332935</td>\n",
       "    </tr>\n",
       "  </tbody>\n",
       "</table>\n",
       "<p>84688 rows × 11 columns</p>\n",
       "</div>"
      ],
      "text/plain": [
       "      price_corn  price_soybean_meal    gdp_china    gdp_iran  \\\n",
       "date                                                            \n",
       "1997   93.204180          124.012650   560.722750  106.976296   \n",
       "1997   93.204180          124.012650   560.722750  106.976296   \n",
       "1997   93.204180          124.012650   560.722750  106.976296   \n",
       "1997   93.204180          124.012650   560.722750  106.976296   \n",
       "1997   93.204180          124.012650   560.722750  106.976296   \n",
       "...          ...                 ...          ...         ...   \n",
       "2017  122.971792          154.470762  3217.035216  206.837835   \n",
       "2017  122.971792          154.470762  3217.035216  206.837835   \n",
       "2017  122.971792          154.470762  3217.035216  206.837835   \n",
       "2017  122.971792          154.470762  3217.035216  206.837835   \n",
       "2017  122.971792          154.470762  3217.035216  206.837835   \n",
       "\n",
       "      gpd_netherlands   gdp_spain  gdp_thailand   gdp_world   gdp_egypt  \\\n",
       "date                                                                      \n",
       "1997       152.738204  156.728085    345.124057  173.936618  218.683678   \n",
       "1997       152.738204  156.728085    345.124057  173.936618  218.683678   \n",
       "1997       152.738204  156.728085    345.124057  173.936618  218.683678   \n",
       "1997       152.738204  156.728085    345.124057  173.936618  218.683678   \n",
       "1997       152.738204  156.728085    345.124057  173.936618  218.683678   \n",
       "...               ...         ...           ...         ...         ...   \n",
       "2017       218.654416  235.107145    678.597904  366.844336  533.215059   \n",
       "2017       218.654416  235.107145    678.597904  366.844336  533.215059   \n",
       "2017       218.654416  235.107145    678.597904  366.844336  533.215059   \n",
       "2017       218.654416  235.107145    678.597904  366.844336  533.215059   \n",
       "2017       218.654416  235.107145    678.597904  366.844336  533.215059   \n",
       "\n",
       "       gdp_japan  gdp_vietnam  \n",
       "date                           \n",
       "1997  180.133771   299.095195  \n",
       "1997  180.133771   299.095195  \n",
       "1997  180.133771   299.095195  \n",
       "1997  180.133771   299.095195  \n",
       "1997  180.133771   299.095195  \n",
       "...          ...          ...  \n",
       "2017  210.069173  1054.332935  \n",
       "2017  210.069173  1054.332935  \n",
       "2017  210.069173  1054.332935  \n",
       "2017  210.069173  1054.332935  \n",
       "2017  210.069173  1054.332935  \n",
       "\n",
       "[84688 rows x 11 columns]"
      ]
     },
     "execution_count": 112,
     "metadata": {},
     "output_type": "execute_result"
    }
   ],
   "source": [
    "merged.iloc[0:L, 1:12]"
   ]
  },
  {
   "cell_type": "code",
   "execution_count": 77,
   "metadata": {},
   "outputs": [
    {
     "data": {
      "text/plain": [
       "<matplotlib.axes._subplots.AxesSubplot at 0x7fe946451208>"
      ]
     },
     "execution_count": 77,
     "metadata": {},
     "output_type": "execute_result"
    },
    {
     "data": {
      "image/png": "[encoded data removed]",
      "text/plain": [
       "<Figure size 792x576 with 2 Axes>"
      ]
     },
     "metadata": {},
     "output_type": "display_data"
    }
   ],
   "source": [
    "corr_soybeans = X_train_soybeans.corr()\n",
    "ax = plt.subplots(figsize=(11, 8))\n",
    "sns.heatmap(corr_soybeans,  annot=True, annot_kws={\"size\": 10})"
   ]
  },
  {
   "cell_type": "code",
   "execution_count": 72,
   "metadata": {},
   "outputs": [],
   "source": [
    "reg = LinearRegression()"
   ]
  },
  {
   "cell_type": "code",
   "execution_count": 78,
   "metadata": {},
   "outputs": [
    {
     "data": {
      "text/plain": [
       "LinearRegression(copy_X=True, fit_intercept=True, n_jobs=None, normalize=False)"
      ]
     },
     "execution_count": 78,
     "metadata": {},
     "output_type": "execute_result"
    }
   ],
   "source": [
    "reg.fit(X_train_soybeans, y_train_soybeans)"
   ]
  },
  {
   "cell_type": "code",
   "execution_count": null,
   "metadata": {},
   "outputs": [],
   "source": [
    "predicted = "
   ]
  }
 ],
 "metadata": {
  "kernelspec": {
   "display_name": "Python 3",
   "language": "python",
   "name": "python3"
  },
  "language_info": {
   "codemirror_mode": {
    "name": "ipython",
    "version": 3
   },
   "file_extension": ".py",
   "mimetype": "text/x-python",
   "name": "python",
   "nbconvert_exporter": "python",
   "pygments_lexer": "ipython3",
   "version": "3.6.10"
  }
 },
 "nbformat": 4,
 "nbformat_minor": 4
}
